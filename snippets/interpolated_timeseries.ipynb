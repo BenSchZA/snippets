{
  "nbformat": 4,
  "nbformat_minor": 0,
  "metadata": {
    "kernelspec": {
      "display_name": "Python 3",
      "language": "python",
      "name": "python3"
    },
    "language_info": {
      "codemirror_mode": {
        "name": "ipython",
        "version": 3
      },
      "file_extension": ".py",
      "mimetype": "text/x-python",
      "name": "python",
      "nbconvert_exporter": "python",
      "pygments_lexer": "ipython3",
      "version": "3.8.2"
    },
    "colab": {
      "name": "cadcad_timeseries.ipynb",
      "provenance": [],
      "collapsed_sections": []
    }
  },
  "cells": [
    {
      "cell_type": "markdown",
      "metadata": {
        "id": "7mOUz_f-OUpa"
      },
      "source": [
        "# Interpolated time series on cadCAD\n",
        "\n",
        "*Danilo Lessa Bernardineli*\n",
        "\n",
        "---\n",
        "\n",
        "This notebook shows how you can include a time series in a simulation when you have sparse temporal records."
      ]
    },
    {
      "cell_type": "markdown",
      "metadata": {
        "id": "9splnTThOUpb"
      },
      "source": [
        "## Dependences\n",
        "\n",
        "On this block, we import all the libraries that we need, and also we set the length of the simulation."
      ]
    },
    {
      "cell_type": "code",
      "metadata": {
        "id": "F-k-23QgPnDL"
      },
      "source": [
        "%%capture\n",
        "!pip install cadCAD"
      ],
      "execution_count": 1,
      "outputs": []
    },
    {
      "cell_type": "code",
      "metadata": {
        "id": "xm9XawDoOUpl"
      },
      "source": [
        "import numpy as np\n",
        "from cadCAD.configuration.utils import config_sim\n",
        "from cadCAD.configuration import Configuration\n",
        "from cadCAD.engine import ExecutionMode, ExecutionContext, Executor\n",
        "import pandas as pd\n",
        "import matplotlib.pyplot as plt\n",
        "from scipy.interpolate import interp1d"
      ],
      "execution_count": 2,
      "outputs": []
    },
    {
      "cell_type": "code",
      "metadata": {
        "id": "zQM9VGu_OUpq"
      },
      "source": [
        "SIMULATION_TIMESTEPS = 100"
      ],
      "execution_count": 3,
      "outputs": []
    },
    {
      "cell_type": "markdown",
      "metadata": {
        "id": "ZZ48RwudOUp1"
      },
      "source": [
        "### Load the timeseries"
      ]
    },
    {
      "cell_type": "code",
      "metadata": {
        "id": "a1m1uCXzOUp2"
      },
      "source": [
        "# The input for interpolating the simulation time series.\n",
        "# It is a sequence of events encoded by a list of tuples.\n",
        "records = [('2020-01-01', 10.5),\n",
        "           ('2020-02-10', 1.3),\n",
        "           ('2020-02-15', 100.2),\n",
        "           ('2020-03-10', 9.3)]\n",
        "\n",
        "# Transform the list of tuples to a Pandas series\n",
        "timeseries = (pd.DataFrame(records, columns=['date', 'value'])\n",
        "                .assign(date=lambda df: pd.to_datetime(df.date))\n",
        "                .set_index('date')\n",
        "                .value)"
      ],
      "execution_count": 4,
      "outputs": []
    },
    {
      "cell_type": "code",
      "metadata": {
        "id": "zZyauRhhOUp7",
        "colab": {
          "base_uri": "https://localhost:8080/"
        },
        "outputId": "906d9ab9-b4d6-4e0a-f3c6-6eeff570e1ac"
      },
      "source": [
        "# Show the first five values\n",
        "timeseries.head(5)"
      ],
      "execution_count": 5,
      "outputs": [
        {
          "output_type": "execute_result",
          "data": {
            "text/plain": [
              "date\n",
              "2020-01-01     10.5\n",
              "2020-02-10      1.3\n",
              "2020-02-15    100.2\n",
              "2020-03-10      9.3\n",
              "Name: value, dtype: float64"
            ]
          },
          "metadata": {
            "tags": []
          },
          "execution_count": 5
        }
      ]
    },
    {
      "cell_type": "markdown",
      "metadata": {
        "id": "Yx9jzx82OUqA"
      },
      "source": [
        "### Interpolate timeseries\n",
        "\n",
        "Now, we create a function that has a time series provided by the user and returns a interpolated time series."
      ]
    },
    {
      "cell_type": "code",
      "metadata": {
        "id": "zPt6DBkvOUqB"
      },
      "source": [
        "def interpolate_from_timeseries(series: pd.Series, N: int,\n",
        "                                start: str = None, end: str = None) -> pd.Series:\n",
        "    \"\"\"\n",
        "    Given an series with datetime index, generate an interpolated series with\n",
        "    N points, and between start and end (min/max if None).\n",
        "    \"\"\"\n",
        "    if start == None:\n",
        "        start = series.index.min()\n",
        "    if end == None:\n",
        "        end = series.index.max()\n",
        "\n",
        "    # Create a interpolator object instance\n",
        "    interpolator = interp1d(series.index.map(lambda t: t.value), series.values)\n",
        "\n",
        "    # Generate equidistant dates between the provided start and end range\n",
        "    interpolated_dates = pd.date_range(start=start, end=end, periods=N)\n",
        "\n",
        "    # Generate a NumPy array of interpolated values for each generated date\n",
        "    interpolated_values = interpolator(\n",
        "        interpolated_dates.map(lambda t: t.value))\n",
        "    \n",
        "    # Transform the interpolated values array into a Pandas series\n",
        "    interpolated_series = pd.Series(\n",
        "        interpolated_values, index=interpolated_dates)\n",
        "    return interpolated_series"
      ],
      "execution_count": 6,
      "outputs": []
    },
    {
      "cell_type": "markdown",
      "metadata": {
        "id": "jzuBje4rQCgN"
      },
      "source": [
        "## cadCAD model\n",
        "\n",
        "For sake of simplicity, we use a simple model:\n",
        "\n",
        "$v(t) = s(t) + \\mathcal{N}(\\mu,  \\sigma)$\n",
        "\n",
        "where $s(t)$ is the actual interpolated value, and $\\mathcal{N}$ is a random gaussian number."
      ]
    },
    {
      "cell_type": "code",
      "metadata": {
        "id": "bzr6nHuiOUqL"
      },
      "source": [
        "# Get the values from the interpolated series for a provided timeseries and N\n",
        "interpolated_series = (interpolate_from_timeseries(timeseries, SIMULATION_TIMESTEPS)\n",
        "                       .reset_index(drop=True)\n",
        "                       .to_dict())\n",
        "\n",
        "sys_params = {\n",
        "    'stochastic_mean': [2.0],\n",
        "    'stochastic_stdev': [0.5],\n",
        "    'timestep_series': interpolated_series,\n",
        "}\n",
        "\n",
        "genesis_states = {\n",
        "    'something': 0,\n",
        "}\n",
        "\n",
        "\n",
        "def s_something(params, substep, state_history, prev_state, policy_input):\n",
        "    \"\"\"\n",
        "    State Update Function for putting a random error in the interpolated series\n",
        "    \"\"\"\n",
        "    # Dependences\n",
        "    series = params['timestep_series']\n",
        "    mean = params['stochastic_mean']\n",
        "    sigma = params['stochastic_stdev']\n",
        "    current_timestep = prev_state['timestep']\n",
        "\n",
        "    # Logic\n",
        "    current_value = series[current_timestep]\n",
        "    new_value = float(current_value + np.random.normal(mean, sigma))\n",
        "    \n",
        "    return ('something', new_value)\n",
        "\n",
        "\n",
        "partial_state_update_blocks = [\n",
        "    {\n",
        "        'label': 'Make the timeseries fuzzy',\n",
        "        'policies': {\n",
        "            \n",
        "        },\n",
        "        'variables': {\n",
        "            'something': s_something\n",
        "        }\n",
        "    }\n",
        "]\n",
        "\n",
        "sim_config = {\n",
        "    'N': 1,\n",
        "    'M': sys_params,\n",
        "    'T': range(SIMULATION_TIMESTEPS)\n",
        "}"
      ],
      "execution_count": 7,
      "outputs": []
    },
    {
      "cell_type": "markdown",
      "metadata": {
        "id": "1XQSHSyaZBN8"
      },
      "source": [
        "## Model execution"
      ]
    },
    {
      "cell_type": "code",
      "metadata": {
        "id": "rhI_2ve6OUqS",
        "colab": {
          "base_uri": "https://localhost:8080/"
        },
        "outputId": "442fbd9d-46b2-49b6-feb6-deea3c04d9f2"
      },
      "source": [
        "from cadCAD.configuration.utils import config_sim\n",
        "\n",
        "sim_params = config_sim(sim_config)\n",
        "\n",
        "from cadCAD.configuration import Experiment\n",
        "\n",
        "exp = Experiment()\n",
        "exp.append_configs(\n",
        "    sim_configs=sim_config,\n",
        "    initial_state=genesis_states,\n",
        "    partial_state_update_blocks=partial_state_update_blocks\n",
        ")\n",
        "\n",
        "from cadCAD import configs\n",
        "from cadCAD.engine import ExecutionMode, ExecutionContext, Executor\n",
        "\n",
        "exec_mode = ExecutionMode()\n",
        "local_mode_ctx = ExecutionContext(context=exec_mode.local_mode)\n",
        "\n",
        "simulation = Executor(exec_context=local_mode_ctx, configs=configs)\n",
        "raw_system_events, tensor_field, sessions = simulation.execute()"
      ],
      "execution_count": 8,
      "outputs": [
        {
          "output_type": "stream",
          "text": [
            "\n",
            "                  ___________    ____\n",
            "  ________ __ ___/ / ____/   |  / __ \\\n",
            " / ___/ __` / __  / /   / /| | / / / /\n",
            "/ /__/ /_/ / /_/ / /___/ ___ |/ /_/ /\n",
            "\\___/\\__,_/\\__,_/\\____/_/  |_/_____/\n",
            "by cadCAD\n",
            "\n",
            "Execution Mode: local_proc\n",
            "Configuration Count: 1\n",
            "Dimensions of the first simulation: (Timesteps, Params, Runs, Vars) = (100, 3, 1, 1)\n",
            "Execution Method: local_simulations\n",
            "SimIDs   : [0]\n",
            "SubsetIDs: [0]\n",
            "Ns       : [0]\n",
            "ExpIDs   : [0]\n",
            "Execution Mode: single_threaded\n",
            "Total execution time: 0.02s\n"
          ],
          "name": "stdout"
        }
      ]
    },
    {
      "cell_type": "code",
      "metadata": {
        "id": "dO5kspmcOUqX",
        "colab": {
          "base_uri": "https://localhost:8080/",
          "height": 265
        },
        "outputId": "122bf579-9235-4c78-848d-77df6bd93496"
      },
      "source": [
        "# Plot data\n",
        "data = pd.DataFrame(raw_system_events)\n",
        "pd.Series(interpolated_series).plot(label='Interpolated series')\n",
        "data.something.plot(label='Modified series')\n",
        "plt.legend()\n",
        "plt.show()"
      ],
      "execution_count": 9,
      "outputs": [
        {
          "output_type": "display_data",
          "data": {
            "image/png": "[encoded data removed]",
            "text/plain": [
              "<Figure size 432x288 with 1 Axes>"
            ]
          },
          "metadata": {
            "tags": [],
            "needs_background": "light"
          }
        }
      ]
    }
  ]
}