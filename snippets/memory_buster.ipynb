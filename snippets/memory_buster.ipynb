{
  "nbformat": 4,
  "nbformat_minor": 0,
  "metadata": {
    "colab": {
      "name": "cadCAD_memory_buster",
      "provenance": [],
      "collapsed_sections": [],
      "toc_visible": true
    },
    "kernelspec": {
      "name": "python3",
      "display_name": "Python 3"
    }
  },
  "cells": [
    {
      "cell_type": "markdown",
      "metadata": {
        "id": "BRaF7rzyQYLc"
      },
      "source": [
        "# cadCAD memory buster\n",
        "\n",
        "Danilo Lessa Bernardineli\n",
        "\n",
        "---\n",
        "\n",
        "An cadCAD model for frying the thread memory. \n",
        "\n",
        "For every timestep, an constant number of random points are appended to an state variable array. This can be useful for diagonistics"
      ]
    },
    {
      "cell_type": "code",
      "metadata": {
        "id": "gLdIaonlT3Cg"
      },
      "source": [
        "%%capture\n",
        "!pip install cadCAD"
      ],
      "execution_count": 1,
      "outputs": []
    },
    {
      "cell_type": "code",
      "metadata": {
        "id": "qZZEdNOWVOj_"
      },
      "source": [
        "import numpy as np\n",
        "import sys\n",
        "import psutil\n",
        "import os"
      ],
      "execution_count": 2,
      "outputs": []
    },
    {
      "cell_type": "markdown",
      "metadata": {
        "id": "J504Mb_Bck69"
      },
      "source": [
        "## Model"
      ]
    },
    {
      "cell_type": "markdown",
      "metadata": {
        "id": "Tqqg1gExVA8z"
      },
      "source": [
        "### Logic"
      ]
    },
    {
      "cell_type": "code",
      "metadata": {
        "id": "ML7v2vnmVDhz"
      },
      "source": [
        "def s_add_things(params, timestep, history, prev_state, policy_input):\n",
        "  things = prev_state['things']\n",
        "  N = params['N']\n",
        "  values = np.random.rand(N)\n",
        "  things = np.append(things, values)\n",
        "  return ('things', things)\n",
        "\n",
        "\n",
        "\n",
        "def s_measure_history(params, timestep, history, prev_state, policy_input):\n",
        "  used_bytes = sum([sys.getsizeof(l.get('things', 0)) for h in history for l in h])\n",
        "  return ('history_bytes', used_bytes)\n",
        "\n",
        "\n",
        "def s_measure_state(params, timestep, history, prev_state, policy_input):\n",
        "  used_bytes = sys.getsizeof(prev_state['things'])\n",
        "  return ('state_bytes', used_bytes)\n",
        "\n",
        "\n",
        "def s_measure_process(params, timestep, history, prev_state, policy_input):\n",
        "  process = psutil.Process(os.getpid())\n",
        "  used_bytes = process.memory_info().data\n",
        "  return ('process_bytes', used_bytes)\n",
        "\n",
        "\n",
        "\n",
        "def s_erase_history(params, timestep, history, prev_state, policy_input):\n",
        "  \n",
        "  for a in history:\n",
        "    for b in a:\n",
        "      b['things'] = None\n",
        "  return ('nothing', None)"
      ],
      "execution_count": 3,
      "outputs": []
    },
    {
      "cell_type": "markdown",
      "metadata": {
        "id": "bgvcFnqXVBAR"
      },
      "source": [
        "### Structure"
      ]
    },
    {
      "cell_type": "code",
      "metadata": {
        "id": "wKvUIIEgb7Kl"
      },
      "source": [
        "partial_state_update_blocks = [\n",
        "  {\n",
        "      'policies': {},\n",
        "      'variables': {\n",
        "          'things': s_add_things,\n",
        "      }\n",
        "  },\n",
        "  {\n",
        "      'policies': {},\n",
        "      'variables': {\n",
        "          'state_bytes': s_measure_state,\n",
        "      }\n",
        "  },\n",
        "  {\n",
        "      'policies': {},\n",
        "      'variables': {\n",
        "          'history_bytes': s_measure_history,\n",
        "      }\n",
        "  },\n",
        "  {\n",
        "      'policies': {},\n",
        "      'variables': {\n",
        "          'process_bytes':s_measure_process,\n",
        "      }\n",
        "  },\n",
        "  {\n",
        "      'policies': {},\n",
        "      'variables': {\n",
        "          'nothing': s_erase_history\n",
        "      }\n",
        "  },\n",
        "]"
      ],
      "execution_count": 4,
      "outputs": []
    },
    {
      "cell_type": "markdown",
      "metadata": {
        "id": "lNnBiM8sVoAe"
      },
      "source": [
        ""
      ]
    },
    {
      "cell_type": "code",
      "metadata": {
        "id": "YqRJxWFoVpWO"
      },
      "source": [
        "genesis_state = {\n",
        "    'things': np.array([0.0, 1.0]),\n",
        "    'state_bytes': None,\n",
        "    'history_bytes': None,\n",
        "    'process_bytes': None,\n",
        "    'nothing': None\n",
        "}\n",
        "\n",
        "T = int(1000)\n",
        "\n",
        "params = {'N': int(1e4)}"
      ],
      "execution_count": 5,
      "outputs": []
    },
    {
      "cell_type": "markdown",
      "metadata": {
        "id": "6wTSR7n2eQdc"
      },
      "source": [
        "**Actual cadCAD usage**"
      ]
    },
    {
      "cell_type": "code",
      "metadata": {
        "id": "8NcXGzZYeP6G",
        "colab": {
          "base_uri": "https://localhost:8080/",
          "height": 187
        },
        "outputId": "793a89ce-5402-422b-8105-5f970b4a52f3"
      },
      "source": [
        "from cadCAD.configuration import Configuration\n",
        "from cadCAD.engine import ExecutionMode, ExecutionContext, Executor\n",
        "import pandas as pd\n",
        "import seaborn as sns\n",
        "import matplotlib.pyplot as plt\n",
        "\n",
        "\n",
        "\n",
        "sim_config = (\n",
        "    {\n",
        "        'N': 1,\n",
        "        'T': range(T), # number of timesteps\n",
        "        'M': params\n",
        "    }\n",
        ")\n",
        "\n",
        "\n",
        "config = Configuration(\n",
        "    sim_config=sim_config,\n",
        "    initial_state=genesis_state,\n",
        "    partial_state_update_blocks=partial_state_update_blocks\n",
        ")\n",
        "\n",
        "exec_mode = ExecutionMode()\n",
        "exec_context = ExecutionContext(exec_mode.multi_proc)\n",
        "executor = Executor(exec_context, [config]) # Pass the configuration object inside an array\n",
        "raw_result = executor.execute() # The `execute()` method returns a tuple; its first elements contains the raw results\n",
        "raw_data = pd.DataFrame(raw_result[0][0])"
      ],
      "execution_count": null,
      "outputs": [
        {
          "output_type": "stream",
          "text": [
            "\n",
            "                            __________   ____ \n",
            "          ________ __ _____/ ____/   |  / __ \\\n",
            "         / ___/ __` / __  / /   / /| | / / / /\n",
            "        / /__/ /_/ / /_/ / /___/ ___ |/ /_/ / \n",
            "        \\___/\\__,_/\\__,_/\\____/_/  |_/_____/  \n",
            "        by BlockScience\n",
            "        \n",
            "Execution Mode: multi_proc: [<cadCAD.configuration.Configuration object at 0x7f7fd5fd7a20>]\n",
            "Configurations: [<cadCAD.configuration.Configuration object at 0x7f7fd5fd7a20>]\n"
          ],
          "name": "stdout"
        }
      ]
    },
    {
      "cell_type": "code",
      "metadata": {
        "id": "-u3sTUMdW_bp"
      },
      "source": [
        "data = (raw_data.drop(columns=['things', 'run', 'substep', 'nothing'])\n",
        "                .set_index('timestep')\n",
        "                .loc[1:]\n",
        "                .div(1024 * 1024))"
      ],
      "execution_count": null,
      "outputs": []
    },
    {
      "cell_type": "code",
      "metadata": {
        "id": "YmSRvYaQaiRu",
        "colab": {
          "base_uri": "https://localhost:8080/",
          "height": 295
        },
        "outputId": "fa0a46dc-ff55-4a19-80c4-ede00f682168"
      },
      "source": [
        "plt.title(\"cadCAD memory usage (MB)\")\n",
        "plt.plot(data.history_bytes, label='History storage')\n",
        "plt.plot(data.state_bytes, label='State storage')\n",
        "plt.plot(data.process_bytes, label='Process size')\n",
        "plt.ylabel(\"MB\")\n",
        "plt.xlabel(\"Timestep\")\n",
        "plt.legend()\n",
        "plt.show()"
      ],
      "execution_count": null,
      "outputs": [
        {
          "output_type": "display_data",
          "data": {
            "image/png": "[encoded data removed]",
            "text/plain": [
              "<Figure size 432x288 with 1 Axes>"
            ]
          },
          "metadata": {
            "tags": []
          }
        }
      ]
    },
    {
      "cell_type": "code",
      "metadata": {
        "id": "2nDpx65abp_W",
        "colab": {
          "base_uri": "https://localhost:8080/",
          "height": 296
        },
        "outputId": "2bcd4b24-74c7-4487-d25c-7fca281e371d"
      },
      "source": [
        "y = (data.state_bytes / data.history_bytes)\n",
        "plt.xlabel(\"Timestep\")\n",
        "plt.ylabel(\"State / History sizes ratio\")\n",
        "plt.plot(y)"
      ],
      "execution_count": null,
      "outputs": [
        {
          "output_type": "execute_result",
          "data": {
            "text/plain": [
              "[<matplotlib.lines.Line2D at 0x7f7fc86b0c88>]"
            ]
          },
          "metadata": {
            "tags": []
          },
          "execution_count": 9
        },
        {
          "output_type": "display_data",
          "data": {
            "image/png": "[encoded data removed]",
            "text/plain": [
              "<Figure size 432x288 with 1 Axes>"
            ]
          },
          "metadata": {
            "tags": []
          }
        }
      ]
    },
    {
      "cell_type": "code",
      "metadata": {
        "id": "lTzLIUGqeKkk",
        "colab": {
          "base_uri": "https://localhost:8080/",
          "height": 142
        },
        "outputId": "aaf08a80-9bfc-4c76-87e2-c48e2d6c4709"
      },
      "source": [
        "data.tail(2)"
      ],
      "execution_count": null,
      "outputs": [
        {
          "output_type": "execute_result",
          "data": {
            "text/html": [
              "<div>\n",
              "<style scoped>\n",
              "    .dataframe tbody tr th:only-of-type {\n",
              "        vertical-align: middle;\n",
              "    }\n",
              "\n",
              "    .dataframe tbody tr th {\n",
              "        vertical-align: top;\n",
              "    }\n",
              "\n",
              "    .dataframe thead th {\n",
              "        text-align: right;\n",
              "    }\n",
              "</style>\n",
              "<table border=\"1\" class=\"dataframe\">\n",
              "  <thead>\n",
              "    <tr style=\"text-align: right;\">\n",
              "      <th></th>\n",
              "      <th>state_bytes</th>\n",
              "      <th>history_bytes</th>\n",
              "      <th>process_bytes</th>\n",
              "    </tr>\n",
              "    <tr>\n",
              "      <th>timestep</th>\n",
              "      <th></th>\n",
              "      <th></th>\n",
              "      <th></th>\n",
              "    </tr>\n",
              "  </thead>\n",
              "  <tbody>\n",
              "    <tr>\n",
              "      <th>1000</th>\n",
              "      <td>76.294052</td>\n",
              "      <td>381.164948</td>\n",
              "      <td>1554.097656</td>\n",
              "    </tr>\n",
              "    <tr>\n",
              "      <th>1000</th>\n",
              "      <td>76.294052</td>\n",
              "      <td>381.164948</td>\n",
              "      <td>1554.097656</td>\n",
              "    </tr>\n",
              "  </tbody>\n",
              "</table>\n",
              "</div>"
            ],
            "text/plain": [
              "          state_bytes  history_bytes  process_bytes\n",
              "timestep                                           \n",
              "1000        76.294052     381.164948    1554.097656\n",
              "1000        76.294052     381.164948    1554.097656"
            ]
          },
          "metadata": {
            "tags": []
          },
          "execution_count": 10
        }
      ]
    }
  ]
}